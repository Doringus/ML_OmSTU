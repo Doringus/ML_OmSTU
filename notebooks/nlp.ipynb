{
 "cells": [
  {
   "cell_type": "markdown",
   "metadata": {
    "id": "1T45drVGAoZS"
   },
   "source": [
    "Задание:\n",
    "\n",
    "С помощью метода get_prepared_all_vacancies_from_hh\n",
    "загрузить 10000 вакансии с сайта hh.ru.\n",
    "\n",
    "Договоритесь чтобы вакансии не повторялись.\n",
    "\n",
    "Сохранить результат в виде csv файла с тремя столбцами:\n",
    "1. id вакансии\n",
    "2. сырой json\n",
    "3. подготовленное описание вакансии\n",
    "\n",
    "Не забывайте про обработку ошибок"
   ]
  },
  {
   "cell_type": "code",
   "execution_count": 12,
   "metadata": {
    "id": "oSGoAoSOsaOr"
   },
   "outputs": [
    {
     "name": "stderr",
     "output_type": "stream",
     "text": [
      "[nltk_data] Downloading package punkt to\n",
      "[nltk_data]     C:\\Users\\keken\\AppData\\Roaming\\nltk_data...\n",
      "[nltk_data]   Package punkt is already up-to-date!\n",
      "[nltk_data] Downloading package wordnet to\n",
      "[nltk_data]     C:\\Users\\keken\\AppData\\Roaming\\nltk_data...\n",
      "[nltk_data]   Package wordnet is already up-to-date!\n",
      "[nltk_data] Downloading package stopwords to\n",
      "[nltk_data]     C:\\Users\\keken\\AppData\\Roaming\\nltk_data...\n",
      "[nltk_data]   Package stopwords is already up-to-date!\n"
     ]
    },
    {
     "data": {
      "text/plain": [
       "{'id': '43551857',\n",
       " 'premium': False,\n",
       " 'billing_type': {'id': 'standard', 'name': 'Стандарт'},\n",
       " 'relations': [],\n",
       " 'name': 'Рабочий в производственные цеха',\n",
       " 'insider_interview': None,\n",
       " 'response_letter_required': False,\n",
       " 'area': {'id': '68', 'name': 'Омск', 'url': 'https://api.hh.ru/areas/68'},\n",
       " 'salary': {'from': 24000, 'to': 41000, 'currency': 'RUR', 'gross': False},\n",
       " 'type': {'id': 'open', 'name': 'Открытая'},\n",
       " 'address': {'city': 'Омск',\n",
       "  'street': 'улица Будеркина',\n",
       "  'building': '2',\n",
       "  'description': None,\n",
       "  'lat': 54.9591513865,\n",
       "  'lng': 73.437212985,\n",
       "  'raw': 'Омск, улица Будеркина, 2',\n",
       "  'metro': None,\n",
       "  'metro_stations': []},\n",
       " 'allow_messages': True,\n",
       " 'site': {'id': 'hh', 'name': 'hh.ru'},\n",
       " 'experience': {'id': 'noExperience', 'name': 'Нет опыта'},\n",
       " 'schedule': {'id': 'shift', 'name': 'Сменный график'},\n",
       " 'employment': {'id': 'full', 'name': 'Полная занятость'},\n",
       " 'department': None,\n",
       " 'contacts': None,\n",
       " 'description': '<p><strong>Обязанности:</strong></p> <ul> <li>Работа в производственных цехах.</li> </ul> <p><strong>Требования:</strong></p> <ul> <li>Рассматриваются все кандидаты, желающие работать.</li> </ul> <p><strong>Условия:</strong></p> <ul> <li>Официальное трудоустройство;</li> <li>Своевременная, стабильная выплата заработной платы (ежегодное повышение заработной платы);</li> <li>Сменные графики работы со смещенным выходным днем;</li> <li>Обучение рабочей профессии на рабочем месте;</li> <li>Дополнительные выплаты в значимых событиях (рождение детей, заключение брака и пр.);</li> <li>Возможность карьерного роста и развития;</li> <li>Обучение за счёт Компании;</li> <li>50 % скидка при покупке шин &quot;Кордиант&quot;;</li> <li>Льготные путевки в оздоровительные учреждения;</li> <li>Оплачиваемый бассейн для сотрудников;</li> <li>Компенсации содержания детей в детских садах;</li> <li>Детские подарки к Новому году.</li> </ul> <p><strong>Всех желающих ждем:</strong></p> <ul> <li>Собеседования проводятся ежедневно (кроме субботы и воскресенья);</li> <li>Время: 10:00</li> <li>Адрес: ул. П.Будеркина 2, остановка: Шинный завод, отдел подбора и обучения персонала</li> <li>При себе: паспорт и трудовая книжка</li> </ul>',\n",
       " 'branded_description': None,\n",
       " 'vacancy_constructor_template': {'id': 23688,\n",
       "  'name': 'Производственные вакансии ОШЗ',\n",
       "  'top_picture': {'height': 699,\n",
       "   'width': 1920,\n",
       "   'path': 'https://hhcdn.ru/branding-pictures/671941.png',\n",
       "   'blurred_path': 'https://hhcdn.ru/branding-pictures-blurred/671943.png'},\n",
       "  'bottom_picture': {'height': 352,\n",
       "   'width': 770,\n",
       "   'path': 'https://hhcdn.ru/branding-pictures/671948.png',\n",
       "   'blurred_path': 'https://hhcdn.ru/branding-pictures-blurred/671950.png'}},\n",
       " 'key_skills': [],\n",
       " 'accept_handicapped': False,\n",
       " 'accept_kids': False,\n",
       " 'archived': False,\n",
       " 'response_url': None,\n",
       " 'specializations': [{'id': '18.348',\n",
       "   'name': 'Химическая промышленность',\n",
       "   'profarea_id': '18',\n",
       "   'profarea_name': 'Производство, сельское хозяйство'},\n",
       "  {'id': '29.588',\n",
       "   'name': 'Другое',\n",
       "   'profarea_id': '29',\n",
       "   'profarea_name': 'Рабочий персонал'},\n",
       "  {'id': '29.558',\n",
       "   'name': 'Шлифовщик',\n",
       "   'profarea_id': '29',\n",
       "   'profarea_name': 'Рабочий персонал'},\n",
       "  {'id': '29.511',\n",
       "   'name': 'Токарь, Фрезеровщик',\n",
       "   'profarea_id': '29',\n",
       "   'profarea_name': 'Рабочий персонал'},\n",
       "  {'id': '29.515',\n",
       "   'name': 'Электрик',\n",
       "   'profarea_id': '29',\n",
       "   'profarea_name': 'Рабочий персонал'},\n",
       "  {'id': '15.237',\n",
       "   'name': 'Производство, Технологии',\n",
       "   'profarea_id': '15',\n",
       "   'profarea_name': 'Начало карьеры, студенты'}],\n",
       " 'professional_roles': [{'id': '85',\n",
       "   'name': 'Оператор производственной линии'}],\n",
       " 'code': None,\n",
       " 'hidden': False,\n",
       " 'quick_responses_allowed': False,\n",
       " 'driver_license_types': [],\n",
       " 'accept_incomplete_resumes': True,\n",
       " 'employer': {'id': '3710',\n",
       "  'name': 'Кордиант',\n",
       "  'url': 'https://api.hh.ru/employers/3710',\n",
       "  'alternate_url': 'https://hh.ru/employer/3710',\n",
       "  'logo_urls': {'240': 'https://hhcdn.ru/employer-logo/3807296.png',\n",
       "   '90': 'https://hhcdn.ru/employer-logo/3807295.png',\n",
       "   'original': 'https://hhcdn.ru/employer-logo-original/841605.png'},\n",
       "  'vacancies_url': 'https://api.hh.ru/vacancies?employer_id=3710',\n",
       "  'trusted': True},\n",
       " 'published_at': '2021-11-15T07:36:26+0300',\n",
       " 'created_at': '2021-11-15T07:36:26+0300',\n",
       " 'negotiations_url': None,\n",
       " 'suitable_resumes_url': None,\n",
       " 'apply_alternate_url': 'https://hh.ru/applicant/vacancy_response?vacancyId=43551857',\n",
       " 'has_test': False,\n",
       " 'test': None,\n",
       " 'alternate_url': 'https://hh.ru/vacancy/43551857',\n",
       " 'working_days': [],\n",
       " 'working_time_intervals': [],\n",
       " 'working_time_modes': [],\n",
       " 'accept_temporary': False}"
      ]
     },
     "execution_count": 12,
     "metadata": {},
     "output_type": "execute_result"
    }
   ],
   "source": [
    "from urllib.request import urlopen\n",
    "import json\n",
    "import re\n",
    "import string\n",
    "import concurrent.futures\n",
    "import urllib\n",
    "\n",
    "import nltk\n",
    "from langdetect import detect\n",
    "from nltk.tokenize import word_tokenize\n",
    "from nltk.stem import WordNetLemmatizer\n",
    "from nltk.corpus import stopwords\n",
    "from nltk.stem.snowball import SnowballStemmer \n",
    "import numpy as np\n",
    "import pandas as pd\n",
    "import os\n",
    "from glob import glob\n",
    "\n",
    "nltk.download('punkt')\n",
    "nltk.download('wordnet')\n",
    "nltk.download('stopwords')\n",
    "\n",
    "def download_json(url):\n",
    "  response = []  \n",
    "  try:\n",
    "    response = urlopen(url)\n",
    "  except (urllib.error.HTTPError, urllib.error.URLError) as error:\n",
    "    print(\"Something bad happened\")\n",
    "    return []\n",
    "  else:\n",
    "    data_json = []\n",
    "    if(response.status == 200):\n",
    "        data_json = json.loads(response.read())\n",
    "    return data_json\n",
    "download_json('https://api.hh.ru/vacancies/43551857')"
   ]
  },
  {
   "cell_type": "code",
   "execution_count": 28,
   "metadata": {},
   "outputs": [
    {
     "name": "stdout",
     "output_type": "stream",
     "text": [
      "                                                          raw  \\\n",
      "id                                                              \n",
      "34551956.0  {'id': '34551956', 'premium': False, 'billing_...   \n",
      "34551957.0  {'id': '34551957', 'premium': False, 'billing_...   \n",
      "34551958.0  {'id': '34551958', 'premium': False, 'billing_...   \n",
      "34551959.0  {'id': '34551959', 'premium': False, 'billing_...   \n",
      "34551960.0  {'id': '34551960', 'premium': False, 'billing_...   \n",
      "...                                                       ...   \n",
      "34564952.0  {'id': '34564952', 'premium': False, 'billing_...   \n",
      "34564953.0  {'id': '34564953', 'premium': False, 'billing_...   \n",
      "34564954.0  {'id': '34564954', 'premium': False, 'billing_...   \n",
      "34564955.0  {'id': '34564955', 'premium': False, 'billing_...   \n",
      "44551857.0  {'id': '44551857', 'premium': False, 'billing_...   \n",
      "\n",
      "                                                     prepared  \n",
      "id                                                             \n",
      "34551956.0  ['услов', 'соблюден', 'гарант', 'трудов', 'зак...  \n",
      "34551957.0  ['обязан', 'консультирован', 'покупател', 'пре...  \n",
      "34551958.0  ['обязан', 'выгрузк', 'товар', 'подсобн', 'раб...  \n",
      "34551959.0  ['обязан', 'управлен', 'работ', 'магазин', 'мо...  \n",
      "34551960.0  ['производствен', 'подразделен', 'наш', 'компа...  \n",
      "...                                                       ...  \n",
      "34564952.0  ['консультант', 'SAP', 'логистик', 'требован',...  \n",
      "34564953.0  ['консультант', 'SAP', 'логистик', 'требован',...  \n",
      "34564954.0  ['консультант', 'SAP', 'логистик', 'требован',...  \n",
      "34564955.0  ['консультант', 'SAP', 'логистик', 'требован',...  \n",
      "44551857.0  ['уважа', 'кандидат', 'связ', 'ситуац', 'рынк'...  \n",
      "\n",
      "[10958 rows x 2 columns]\n"
     ]
    }
   ],
   "source": [
    "os.chdir('E:\\\\univer\\\\3 курс 2 семестр\\\\ml_labs\\\\ML_OmSTU\\\\notebooks\\\\vacc')\n",
    "\n",
    "dfs = [pd.read_csv(f, index_col=[0], parse_dates=[0])\n",
    "        for f in os.listdir(os.getcwd()) if f.endswith('csv')]\n",
    "\n",
    "finaldf = pd.concat(dfs, axis=0).sort_index()\n",
    "print(finaldf)\n",
    "finaldf.to_csv(\"vaccTotal.csv\", index=False)"
   ]
  },
  {
   "cell_type": "code",
   "execution_count": 18,
   "metadata": {
    "id": "TR80d6BquBcm"
   },
   "outputs": [
    {
     "data": {
      "text/plain": [
       "'ТРЕБОВАНИЯ:  - обязательно высшее или незаконченное высшее экономическое образование;...'"
      ]
     },
     "execution_count": 18,
     "metadata": {},
     "output_type": "execute_result"
    }
   ],
   "source": [
    "'''\n",
    "РЕАЛИЗОВАТЬ remove_garbage\n",
    "Используйте регулярные выражения\n",
    "IN: str '<p>ТРЕБОВАНИЯ: <br /> - обязательно высшее или незаконченное высшее экономическое образование;...'\n",
    "OUT: str 'ТРЕБОВАНИЯ: - обязательно высшее или незаконченное высшее экономическое образование;...'\n",
    "'''\n",
    "def remove_garbage(raw_text):\n",
    "  return re.sub(r\"<[^>]*>\", \"\", raw_text)\n",
    "remove_garbage('<p>ТРЕБОВАНИЯ: <br /> - обязательно высшее или незаконченное высшее экономическое образование;...')"
   ]
  },
  {
   "cell_type": "code",
   "execution_count": 4,
   "metadata": {
    "id": "0trYWVvtIkOW"
   },
   "outputs": [
    {
     "data": {
      "text/plain": [
       "['ТРЕБОВАНИЯ',\n",
       " ':',\n",
       " '-',\n",
       " 'обязательно',\n",
       " 'высшее',\n",
       " 'или',\n",
       " 'незаконченное',\n",
       " 'высшее',\n",
       " 'экономическое',\n",
       " 'образование',\n",
       " ';',\n",
       " '...']"
      ]
     },
     "execution_count": 4,
     "metadata": {},
     "output_type": "execute_result"
    }
   ],
   "source": [
    "'''\n",
    "РЕАЛИЗОВАТЬ tokenize\n",
    "Используйте word_tokenize из nltk.tokenize\n",
    "IN: str 'ТРЕБОВАНИЯ: - обязательно высшее или незаконченное высшее экономическое образование;...'\n",
    "OUT: list ['требования', ':', '-', 'обязательно', 'высшее', 'или', 'незаконченное', 'высшее', 'экономическое', 'образование']\n",
    "'''\n",
    "def tokenize(raw_text):\n",
    "  return word_tokenize(raw_text)\n",
    "tokenize('ТРЕБОВАНИЯ: - обязательно высшее или незаконченное высшее экономическое образование;...')"
   ]
  },
  {
   "cell_type": "code",
   "execution_count": 5,
   "metadata": {
    "id": "Jp-S1920L6QT"
   },
   "outputs": [
    {
     "data": {
      "text/plain": [
       "'красив мам красив мыл рам'"
      ]
     },
     "execution_count": 5,
     "metadata": {},
     "output_type": "execute_result"
    }
   ],
   "source": [
    "'''\n",
    "РЕАЛИЗОВАТЬ to_base_form\n",
    "Можно использовать и лемматизацию и стемминг: pymystem3, ntlk, Spacy, gensim\n",
    "IN: str 'Красивая мама красиво мыла раму'\n",
    "OUT: str 'красивый мама красиво мыть рама'\n",
    "'''\n",
    "def to_base_form(raw_text):\n",
    "  stemmer = SnowballStemmer(\"russian\")\n",
    "  tokens = tokenize(raw_text)\n",
    "  result = [stemmer.stem(word) for word in tokens]\n",
    "  return ' '.join(result)\n",
    "to_base_form('Красивая мама красиво мыла раму')"
   ]
  },
  {
   "cell_type": "code",
   "execution_count": 6,
   "metadata": {
    "id": "2FCOqsQPuxQE"
   },
   "outputs": [
    {
     "data": {
      "text/plain": [
       "['требования',\n",
       " 'обязательно',\n",
       " 'высший',\n",
       " 'незаконченный',\n",
       " 'высший',\n",
       " 'экономический',\n",
       " 'образование']"
      ]
     },
     "execution_count": 6,
     "metadata": {},
     "output_type": "execute_result"
    }
   ],
   "source": [
    "'''\n",
    "РЕАЛИЗОВАТЬ remove_stop_words\n",
    "Используйте stopwords из nltk.corpus \n",
    "IN: list ['требования', ':', '-', 'обязательно', 'высший', 'или', 'незаконченный', 'высший', 'экономический', 'образование']\n",
    "OUT: list ['требование', 'обязательно', 'высший', 'незаконченный', 'высший', 'экономический', 'образование']\n",
    "'''\n",
    "def remove_stop_words(raw_text):\n",
    "  text = list(filter(lambda word: word not in stopwords.words('russian'), raw_text))\n",
    "  text = list(filter(lambda word: word not in string.punctuation, text))\n",
    "  return text\n",
    "remove_stop_words(['требования', ':', '-', 'обязательно', 'высший', 'или', 'незаконченный', 'высший', 'экономический', 'образование'])"
   ]
  },
  {
   "cell_type": "code",
   "execution_count": 7,
   "metadata": {
    "id": "HV4CVKnDvFil"
   },
   "outputs": [
    {
     "data": {
      "text/plain": [
       "(43551857,\n",
       " {'id': '43551857',\n",
       "  'premium': False,\n",
       "  'billing_type': {'id': 'standard', 'name': 'Стандарт'},\n",
       "  'relations': [],\n",
       "  'name': 'Рабочий в производственные цеха',\n",
       "  'insider_interview': None,\n",
       "  'response_letter_required': False,\n",
       "  'area': {'id': '68', 'name': 'Омск', 'url': 'https://api.hh.ru/areas/68'},\n",
       "  'salary': {'from': 24000, 'to': 41000, 'currency': 'RUR', 'gross': False},\n",
       "  'type': {'id': 'open', 'name': 'Открытая'},\n",
       "  'address': {'city': 'Омск',\n",
       "   'street': 'улица Будеркина',\n",
       "   'building': '2',\n",
       "   'description': None,\n",
       "   'lat': 54.9591513865,\n",
       "   'lng': 73.437212985,\n",
       "   'raw': 'Омск, улица Будеркина, 2',\n",
       "   'metro': None,\n",
       "   'metro_stations': []},\n",
       "  'allow_messages': True,\n",
       "  'site': {'id': 'hh', 'name': 'hh.ru'},\n",
       "  'experience': {'id': 'noExperience', 'name': 'Нет опыта'},\n",
       "  'schedule': {'id': 'shift', 'name': 'Сменный график'},\n",
       "  'employment': {'id': 'full', 'name': 'Полная занятость'},\n",
       "  'department': None,\n",
       "  'contacts': None,\n",
       "  'description': '<p><strong>Обязанности:</strong></p> <ul> <li>Работа в производственных цехах.</li> </ul> <p><strong>Требования:</strong></p> <ul> <li>Рассматриваются все кандидаты, желающие работать.</li> </ul> <p><strong>Условия:</strong></p> <ul> <li>Официальное трудоустройство;</li> <li>Своевременная, стабильная выплата заработной платы (ежегодное повышение заработной платы);</li> <li>Сменные графики работы со смещенным выходным днем;</li> <li>Обучение рабочей профессии на рабочем месте;</li> <li>Дополнительные выплаты в значимых событиях (рождение детей, заключение брака и пр.);</li> <li>Возможность карьерного роста и развития;</li> <li>Обучение за счёт Компании;</li> <li>50 % скидка при покупке шин &quot;Кордиант&quot;;</li> <li>Льготные путевки в оздоровительные учреждения;</li> <li>Оплачиваемый бассейн для сотрудников;</li> <li>Компенсации содержания детей в детских садах;</li> <li>Детские подарки к Новому году.</li> </ul> <p><strong>Всех желающих ждем:</strong></p> <ul> <li>Собеседования проводятся ежедневно (кроме субботы и воскресенья);</li> <li>Время: 10:00</li> <li>Адрес: ул. П.Будеркина 2, остановка: Шинный завод, отдел подбора и обучения персонала</li> <li>При себе: паспорт и трудовая книжка</li> </ul>',\n",
       "  'branded_description': None,\n",
       "  'vacancy_constructor_template': {'id': 23688,\n",
       "   'name': 'Производственные вакансии ОШЗ',\n",
       "   'top_picture': {'height': 699,\n",
       "    'width': 1920,\n",
       "    'path': 'https://hhcdn.ru/branding-pictures/671941.png',\n",
       "    'blurred_path': 'https://hhcdn.ru/branding-pictures-blurred/671943.png'},\n",
       "   'bottom_picture': {'height': 352,\n",
       "    'width': 770,\n",
       "    'path': 'https://hhcdn.ru/branding-pictures/671948.png',\n",
       "    'blurred_path': 'https://hhcdn.ru/branding-pictures-blurred/671950.png'}},\n",
       "  'key_skills': [],\n",
       "  'accept_handicapped': False,\n",
       "  'accept_kids': False,\n",
       "  'archived': False,\n",
       "  'response_url': None,\n",
       "  'specializations': [{'id': '18.348',\n",
       "    'name': 'Химическая промышленность',\n",
       "    'profarea_id': '18',\n",
       "    'profarea_name': 'Производство, сельское хозяйство'},\n",
       "   {'id': '29.588',\n",
       "    'name': 'Другое',\n",
       "    'profarea_id': '29',\n",
       "    'profarea_name': 'Рабочий персонал'},\n",
       "   {'id': '29.558',\n",
       "    'name': 'Шлифовщик',\n",
       "    'profarea_id': '29',\n",
       "    'profarea_name': 'Рабочий персонал'},\n",
       "   {'id': '29.511',\n",
       "    'name': 'Токарь, Фрезеровщик',\n",
       "    'profarea_id': '29',\n",
       "    'profarea_name': 'Рабочий персонал'},\n",
       "   {'id': '29.515',\n",
       "    'name': 'Электрик',\n",
       "    'profarea_id': '29',\n",
       "    'profarea_name': 'Рабочий персонал'},\n",
       "   {'id': '15.237',\n",
       "    'name': 'Производство, Технологии',\n",
       "    'profarea_id': '15',\n",
       "    'profarea_name': 'Начало карьеры, студенты'}],\n",
       "  'professional_roles': [{'id': '85',\n",
       "    'name': 'Оператор производственной линии'}],\n",
       "  'code': None,\n",
       "  'hidden': False,\n",
       "  'quick_responses_allowed': False,\n",
       "  'driver_license_types': [],\n",
       "  'accept_incomplete_resumes': True,\n",
       "  'employer': {'id': '3710',\n",
       "   'name': 'Кордиант',\n",
       "   'url': 'https://api.hh.ru/employers/3710',\n",
       "   'alternate_url': 'https://hh.ru/employer/3710',\n",
       "   'logo_urls': {'240': 'https://hhcdn.ru/employer-logo/3807296.png',\n",
       "    '90': 'https://hhcdn.ru/employer-logo/3807295.png',\n",
       "    'original': 'https://hhcdn.ru/employer-logo-original/841605.png'},\n",
       "   'vacancies_url': 'https://api.hh.ru/vacancies?employer_id=3710',\n",
       "   'trusted': True},\n",
       "  'published_at': '2021-10-11T07:16:38+0300',\n",
       "  'created_at': '2021-10-11T07:16:38+0300',\n",
       "  'negotiations_url': None,\n",
       "  'suitable_resumes_url': None,\n",
       "  'apply_alternate_url': 'https://hh.ru/applicant/vacancy_response?vacancyId=43551857',\n",
       "  'has_test': False,\n",
       "  'test': None,\n",
       "  'alternate_url': 'https://hh.ru/vacancy/43551857',\n",
       "  'working_days': [],\n",
       "  'working_time_intervals': [],\n",
       "  'working_time_modes': [],\n",
       "  'accept_temporary': False},\n",
       " ['обязан', 'работ', 'производствен', 'цех'])"
      ]
     },
     "execution_count": 7,
     "metadata": {},
     "output_type": "execute_result"
    }
   ],
   "source": [
    "'''\n",
    "РЕАЛИЗОВАТЬ get_prepared_vacancy_description_from_hh\n",
    "Используйте реализованные ранее методы\n",
    "IN: int 72323\n",
    "OUT1: str vacancy_json dump\n",
    "OUT2: list[list] [['требование', 'обязательно', 'высший', 'незаконченный', 'высший', 'экономический', 'образование', ...], [...], ...]\n",
    "'''\n",
    "def get_prepared_vacancy_from_hh(vacancy_id):\n",
    "  base_url = 'https://api.hh.ru/vacancies/'\n",
    "  vacancy_json = download_json(base_url + str(vacancy_id))\n",
    "  if(len(vacancy_json)!=0):\n",
    "    vacancy_description = vacancy_json['description']\n",
    "    vacancy_description_sentences = vacancy_description.split(\".\")\n",
    "    prepared_vacancy_description = []\n",
    "    for sentence in vacancy_description_sentences:\n",
    "      sentence = remove_garbage(sentence)\n",
    "      if(detect(sentence) == 'ru'):\n",
    "        tokens = tokenize(to_base_form(sentence))\n",
    "        prepared_vacancy_description += remove_stop_words(tokens)  \n",
    "        return vacancy_id, vacancy_json, prepared_vacancy_description\n",
    "      else:\n",
    "        return []\n",
    "  else:\n",
    "    return []\n",
    "get_prepared_vacancy_from_hh(43551857)"
   ]
  },
  {
   "cell_type": "code",
   "execution_count": 8,
   "metadata": {
    "id": "4CBLmNNKDFWZ"
   },
   "outputs": [],
   "source": [
    "'''\n",
    "РЕАЛИЗОВАТЬ get_prepared_all_vacancies_from_hh\n",
    "Используйте get_prepared_vacancy_from_hh и ThreadPoolExecutor из concurrent.futures\n",
    "IN: list [int]\n",
    "OUT: list [vacancy_id, raw_description, prepared_description]\n",
    "'''\n",
    "def get_prepared_all_vacancies_from_hh(vacancy_ids):\n",
    "  result = []\n",
    "  with concurrent.futures.ThreadPoolExecutor() as executor:\n",
    "    futures = []\n",
    "    for id in vacancy_ids:\n",
    "      futures.append(executor.submit(get_prepared_vacancy_from_hh, vacancy_id=id))\n",
    "    for future in concurrent.futures.as_completed(futures):\n",
    "      result.append(future.result())\n",
    "  return result"
   ]
  },
  {
   "cell_type": "code",
   "execution_count": 30,
   "metadata": {},
   "outputs": [
    {
     "name": "stdout",
     "output_type": "stream",
     "text": [
      "Something bad happened\n",
      "Something bad happened\n",
      "Something bad happened\n",
      "Something bad happened\n",
      "Something bad happened\n",
      "Something bad happened\n",
      "Something bad happened\n",
      "Something bad happened\n",
      "Something bad happened\n",
      "Something bad happened\n",
      "Something bad happened\n",
      "Something bad happened\n",
      "Something bad happened\n",
      "Something bad happened\n",
      "Something bad happened\n",
      "Something bad happened\n",
      "Something bad happened\n",
      "Something bad happened\n",
      "Something bad happened\n",
      "Something bad happened\n",
      "Something bad happened\n",
      "Something bad happened\n",
      "Something bad happened\n",
      "Something bad happened\n",
      "Something bad happened\n",
      "Something bad happened\n",
      "Something bad happened\n",
      "Something bad happened\n",
      "Something bad happened\n",
      "Something bad happened\n",
      "Something bad happened\n",
      "Something bad happened\n",
      "Something bad happened\n",
      "Something bad happened\n",
      "Something bad happened\n",
      "Something bad happened\n",
      "Something bad happened\n",
      "Something bad happened\n",
      "Something bad happened\n",
      "Something bad happened\n",
      "Something bad happened\n",
      "Something bad happened\n",
      "Something bad happened\n",
      "Something bad happened\n",
      "Something bad happened\n",
      "Something bad happened\n",
      "Something bad happened\n",
      "Something bad happened\n"
     ]
    }
   ],
   "source": [
    "df = pd.DataFrame({\n",
    "                'id': [],\n",
    "                'raw': [],\n",
    "                'prepared': []\n",
    "            })\n",
    "result = get_prepared_all_vacancies_from_hh(np.arange(34563956, 34564956, 1))"
   ]
  },
  {
   "cell_type": "code",
   "execution_count": 31,
   "metadata": {},
   "outputs": [
    {
     "name": "stdout",
     "output_type": "stream",
     "text": [
      "1000\n"
     ]
    }
   ],
   "source": [
    "print(len(result))"
   ]
  },
  {
   "cell_type": "code",
   "execution_count": 32,
   "metadata": {},
   "outputs": [
    {
     "name": "stderr",
     "output_type": "stream",
     "text": [
      "E:\\Programming\\anaconda\\envs\\ml_labs\\lib\\site-packages\\pandas\\core\\dtypes\\cast.py:881: VisibleDeprecationWarning: Creating an ndarray from ragged nested sequences (which is a list-or-tuple of lists-or-tuples-or ndarrays with different lengths or shapes) is deprecated. If you meant to do this, you must specify 'dtype=object' when creating the ndarray.\n",
      "  element = np.asarray(element)\n"
     ]
    }
   ],
   "source": [
    "for val in result:\n",
    "    if(len(val) !=0):\n",
    "      df.loc[len(df)] = val\n",
    "df.to_csv(\"vacc18.csv\", index=False)"
   ]
  },
  {
   "cell_type": "code",
   "execution_count": 33,
   "metadata": {},
   "outputs": [
    {
     "data": {
      "text/html": [
       "<div>\n",
       "<style scoped>\n",
       "    .dataframe tbody tr th:only-of-type {\n",
       "        vertical-align: middle;\n",
       "    }\n",
       "\n",
       "    .dataframe tbody tr th {\n",
       "        vertical-align: top;\n",
       "    }\n",
       "\n",
       "    .dataframe thead th {\n",
       "        text-align: right;\n",
       "    }\n",
       "</style>\n",
       "<table border=\"1\" class=\"dataframe\">\n",
       "  <thead>\n",
       "    <tr style=\"text-align: right;\">\n",
       "      <th></th>\n",
       "      <th>id</th>\n",
       "      <th>raw</th>\n",
       "      <th>prepared</th>\n",
       "    </tr>\n",
       "  </thead>\n",
       "  <tbody>\n",
       "    <tr>\n",
       "      <th>0</th>\n",
       "      <td>34563957.0</td>\n",
       "      <td>{'id': '34563957', 'premium': False, 'billing_...</td>\n",
       "      <td>[федеральн, компан, сет, ломбард, магазин, циф...</td>\n",
       "    </tr>\n",
       "    <tr>\n",
       "      <th>1</th>\n",
       "      <td>34563956.0</td>\n",
       "      <td>{'id': '34563956', 'premium': False, 'billing_...</td>\n",
       "      <td>[обязан, подготовк, пис, вопрос, входя, компет...</td>\n",
       "    </tr>\n",
       "    <tr>\n",
       "      <th>2</th>\n",
       "      <td>34563958.0</td>\n",
       "      <td>{'id': '34563958', 'premium': False, 'billing_...</td>\n",
       "      <td>[97, лет, групп, компан, «, росгосстр, », явля...</td>\n",
       "    </tr>\n",
       "    <tr>\n",
       "      <th>3</th>\n",
       "      <td>34563959.0</td>\n",
       "      <td>{'id': '34563959', 'premium': False, 'billing_...</td>\n",
       "      <td>[адрес, мест, работ, ул, западносибирск, лесоб...</td>\n",
       "    </tr>\n",
       "    <tr>\n",
       "      <th>4</th>\n",
       "      <td>34563965.0</td>\n",
       "      <td>{'id': '34563965', 'premium': False, 'billing_...</td>\n",
       "      <td>[обязан, регистрац, корреспонденц, направлен, ...</td>\n",
       "    </tr>\n",
       "    <tr>\n",
       "      <th>...</th>\n",
       "      <td>...</td>\n",
       "      <td>...</td>\n",
       "      <td>...</td>\n",
       "    </tr>\n",
       "    <tr>\n",
       "      <th>947</th>\n",
       "      <td>34564950.0</td>\n",
       "      <td>{'id': '34564950', 'premium': False, 'billing_...</td>\n",
       "      <td>[консультант, SAP, логистик, требован, оп, раб...</td>\n",
       "    </tr>\n",
       "    <tr>\n",
       "      <th>948</th>\n",
       "      <td>34564951.0</td>\n",
       "      <td>{'id': '34564951', 'premium': False, 'billing_...</td>\n",
       "      <td>[консультант, SAP, логистик, требован, оп, раб...</td>\n",
       "    </tr>\n",
       "    <tr>\n",
       "      <th>949</th>\n",
       "      <td>34564953.0</td>\n",
       "      <td>{'id': '34564953', 'premium': False, 'billing_...</td>\n",
       "      <td>[консультант, SAP, логистик, требован, оп, раб...</td>\n",
       "    </tr>\n",
       "    <tr>\n",
       "      <th>950</th>\n",
       "      <td>34564954.0</td>\n",
       "      <td>{'id': '34564954', 'premium': False, 'billing_...</td>\n",
       "      <td>[консультант, SAP, логистик, требован, оп, раб...</td>\n",
       "    </tr>\n",
       "    <tr>\n",
       "      <th>951</th>\n",
       "      <td>34564955.0</td>\n",
       "      <td>{'id': '34564955', 'premium': False, 'billing_...</td>\n",
       "      <td>[консультант, SAP, логистик, требован, оп, раб...</td>\n",
       "    </tr>\n",
       "  </tbody>\n",
       "</table>\n",
       "<p>952 rows × 3 columns</p>\n",
       "</div>"
      ],
      "text/plain": [
       "             id                                                raw  \\\n",
       "0    34563957.0  {'id': '34563957', 'premium': False, 'billing_...   \n",
       "1    34563956.0  {'id': '34563956', 'premium': False, 'billing_...   \n",
       "2    34563958.0  {'id': '34563958', 'premium': False, 'billing_...   \n",
       "3    34563959.0  {'id': '34563959', 'premium': False, 'billing_...   \n",
       "4    34563965.0  {'id': '34563965', 'premium': False, 'billing_...   \n",
       "..          ...                                                ...   \n",
       "947  34564950.0  {'id': '34564950', 'premium': False, 'billing_...   \n",
       "948  34564951.0  {'id': '34564951', 'premium': False, 'billing_...   \n",
       "949  34564953.0  {'id': '34564953', 'premium': False, 'billing_...   \n",
       "950  34564954.0  {'id': '34564954', 'premium': False, 'billing_...   \n",
       "951  34564955.0  {'id': '34564955', 'premium': False, 'billing_...   \n",
       "\n",
       "                                              prepared  \n",
       "0    [федеральн, компан, сет, ломбард, магазин, циф...  \n",
       "1    [обязан, подготовк, пис, вопрос, входя, компет...  \n",
       "2    [97, лет, групп, компан, «, росгосстр, », явля...  \n",
       "3    [адрес, мест, работ, ул, западносибирск, лесоб...  \n",
       "4    [обязан, регистрац, корреспонденц, направлен, ...  \n",
       "..                                                 ...  \n",
       "947  [консультант, SAP, логистик, требован, оп, раб...  \n",
       "948  [консультант, SAP, логистик, требован, оп, раб...  \n",
       "949  [консультант, SAP, логистик, требован, оп, раб...  \n",
       "950  [консультант, SAP, логистик, требован, оп, раб...  \n",
       "951  [консультант, SAP, логистик, требован, оп, раб...  \n",
       "\n",
       "[952 rows x 3 columns]"
      ]
     },
     "execution_count": 33,
     "metadata": {},
     "output_type": "execute_result"
    }
   ],
   "source": [
    "df"
   ]
  },
  {
   "cell_type": "code",
   "execution_count": null,
   "metadata": {},
   "outputs": [],
   "source": []
  }
 ],
 "metadata": {
  "colab": {
   "collapsed_sections": [],
   "name": "Обработка ЕЯ, основы NLP 1.ipynb",
   "provenance": []
  },
  "kernelspec": {
   "display_name": "Python 3 (ipykernel)",
   "language": "python",
   "name": "python3"
  },
  "language_info": {
   "codemirror_mode": {
    "name": "ipython",
    "version": 3
   },
   "file_extension": ".py",
   "mimetype": "text/x-python",
   "name": "python",
   "nbconvert_exporter": "python",
   "pygments_lexer": "ipython3",
   "version": "3.8.12"
  }
 },
 "nbformat": 4,
 "nbformat_minor": 1
}
